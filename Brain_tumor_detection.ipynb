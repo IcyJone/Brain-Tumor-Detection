{
 "cells": [
  {
   "cell_type": "code",
   "execution_count": null,
   "id": "211bd90b",
   "metadata": {},
   "outputs": [
    {
     "name": "stdout",
     "output_type": "stream",
     "text": [
      "Found 5712 images belonging to 4 classes.\n",
      "Found 1311 images belonging to 4 classes.\n"
     ]
    }
   ],
   "source": [
    "import os\n",
    "import numpy as np\n",
    "import pandas as pd\n",
    "import tensorflow as tf\n",
    "from tensorflow.keras.preprocessing.image import ImageDataGenerator\n",
    "from tensorflow.keras.models import Sequential\n",
    "from tensorflow.keras.layers import Conv2D, MaxPooling2D, Flatten, Dense, Dropout\n"
   ]
  },
  {
   "cell_type": "code",
   "execution_count": null,
   "id": "b9861c55",
   "metadata": {},
   "outputs": [],
   "source": [
    "\n",
    "# STEP 1: DEFINE DATASET PATHS\n",
    "dataset_path = r\"C:\\Users\\jones\\OneDrive\\Desktop\\Brain_Tumor_Detection\"\n",
    "train_dir = os.path.join(dataset_path, \"Training\")\n",
    "test_dir = os.path.join(dataset_path, \"Testing\")\n",
    "categories = [\"glioma\", \"meningioma\", \"notumor\", \"pituitary\"]\n"
   ]
  },
  {
   "cell_type": "code",
   "execution_count": null,
   "id": "ae664ce4",
   "metadata": {},
   "outputs": [],
   "source": [
    "\n",
    "# STEP 2: SET IMAGE SIZE AND BATCH SIZE\n",
    "image_size = (150, 150)\n",
    "batch_size = 32\n",
    "epochs = 50\n"
   ]
  },
  {
   "cell_type": "code",
   "execution_count": null,
   "id": "086f7e03",
   "metadata": {},
   "outputs": [],
   "source": [
    "\n",
    "# STEP 3: DATA AUGMENTATION\n",
    "train_datagen = ImageDataGenerator(\n",
    "    rescale=1./255,\n",
    "    rotation_range=20,\n",
    "    width_shift_range=0.1,\n",
    "    height_shift_range=0.1,\n",
    "    shear_range=0.1,\n",
    "    zoom_range=0.1,\n",
    "    horizontal_flip=True,\n",
    "    vertical_flip=True,\n",
    "    fill_mode=\"nearest\"\n",
    ")\n",
    "\n",
    "train_generator = train_datagen.flow_from_directory(\n",
    "    train_dir,\n",
    "    target_size=image_size,\n",
    "    batch_size=batch_size,\n",
    "    class_mode=\"categorical\"\n",
    ")\n",
    "\n",
    "test_datagen = ImageDataGenerator(rescale=1./255)\n",
    "\n",
    "test_generator = test_datagen.flow_from_directory(\n",
    "    test_dir,\n",
    "    target_size=image_size,\n",
    "    batch_size=batch_size,\n",
    "    class_mode=\"categorical\",\n",
    "    shuffle=False\n",
    ")\n"
   ]
  },
  {
   "cell_type": "code",
   "execution_count": null,
   "id": "f4afe3ce",
   "metadata": {},
   "outputs": [],
   "source": [
    "\n",
    "# STEP 4: BUILD THE CNN MODEL\n",
    "model = Sequential([\n",
    "    Conv2D(32, (3, 3), activation=\"relu\", input_shape=(image_size[0], image_size[1], 3)),\n",
    "    MaxPooling2D((2, 2)),\n",
    "    Conv2D(64, (3, 3), activation=\"relu\"),\n",
    "    MaxPooling2D((2, 2)),\n",
    "    Conv2D(128, (3, 3), activation=\"relu\"),\n",
    "    MaxPooling2D((2, 2)),\n",
    "    Conv2D(128, (3, 3), activation=\"relu\"),\n",
    "    MaxPooling2D((2, 2)),\n",
    "    Flatten(),\n",
    "    Dense(512, activation=\"relu\"),\n",
    "    Dropout(0.5),\n",
    "    Dense(len(categories), activation=\"softmax\")\n",
    "])\n",
    "\n",
    "# Compile the model\n",
    "model.compile(optimizer=\"adam\", loss=\"categorical_crossentropy\", metrics=[\"accuracy\"])\n"
   ]
  },
  {
   "cell_type": "code",
   "execution_count": 21,
   "id": "590c137d",
   "metadata": {},
   "outputs": [
    {
     "name": "stdout",
     "output_type": "stream",
     "text": [
      "Epoch 1/50\n",
      "\u001b[1m178/178\u001b[0m \u001b[32m━━━━━━━━━━━━━━━━━━━━\u001b[0m\u001b[37m\u001b[0m \u001b[1m121s\u001b[0m 668ms/step - accuracy: 0.4782 - loss: 1.1168 - val_accuracy: 0.6242 - val_loss: 0.9684\n",
      "Epoch 2/50\n",
      "\u001b[1m178/178\u001b[0m \u001b[32m━━━━━━━━━━━━━━━━━━━━\u001b[0m\u001b[37m\u001b[0m \u001b[1m1s\u001b[0m 802us/step - accuracy: 0.6250 - loss: 0.9514 - val_accuracy: 0.9032 - val_loss: 0.5886\n",
      "Epoch 3/50\n",
      "\u001b[1m178/178\u001b[0m \u001b[32m━━━━━━━━━━━━━━━━━━━━\u001b[0m\u001b[37m\u001b[0m \u001b[1m106s\u001b[0m 596ms/step - accuracy: 0.6870 - loss: 0.7874 - val_accuracy: 0.6883 - val_loss: 0.8371\n",
      "Epoch 4/50\n",
      "\u001b[1m178/178\u001b[0m \u001b[32m━━━━━━━━━━━━━━━━━━━━\u001b[0m\u001b[37m\u001b[0m \u001b[1m1s\u001b[0m 998us/step - accuracy: 0.8438 - loss: 0.3943 - val_accuracy: 0.9355 - val_loss: 0.4778\n",
      "Epoch 5/50\n",
      "\u001b[1m178/178\u001b[0m \u001b[32m━━━━━━━━━━━━━━━━━━━━\u001b[0m\u001b[37m\u001b[0m \u001b[1m128s\u001b[0m 715ms/step - accuracy: 0.7311 - loss: 0.6881 - val_accuracy: 0.6531 - val_loss: 0.9292\n",
      "Epoch 6/50\n",
      "\u001b[1m178/178\u001b[0m \u001b[32m━━━━━━━━━━━━━━━━━━━━\u001b[0m\u001b[37m\u001b[0m \u001b[1m1s\u001b[0m 682us/step - accuracy: 0.7500 - loss: 0.7468 - val_accuracy: 0.6774 - val_loss: 0.9111\n",
      "Epoch 7/50\n",
      "\u001b[1m178/178\u001b[0m \u001b[32m━━━━━━━━━━━━━━━━━━━━\u001b[0m\u001b[37m\u001b[0m \u001b[1m105s\u001b[0m 591ms/step - accuracy: 0.7876 - loss: 0.5548 - val_accuracy: 0.6234 - val_loss: 1.1174\n",
      "Epoch 8/50\n",
      "\u001b[1m178/178\u001b[0m \u001b[32m━━━━━━━━━━━━━━━━━━━━\u001b[0m\u001b[37m\u001b[0m \u001b[1m1s\u001b[0m 631us/step - accuracy: 0.8750 - loss: 0.4564 - val_accuracy: 0.7097 - val_loss: 0.9725\n",
      "Epoch 9/50\n",
      "\u001b[1m178/178\u001b[0m \u001b[32m━━━━━━━━━━━━━━━━━━━━\u001b[0m\u001b[37m\u001b[0m \u001b[1m93s\u001b[0m 523ms/step - accuracy: 0.8054 - loss: 0.5095 - val_accuracy: 0.6164 - val_loss: 1.0652\n",
      "Epoch 10/50\n",
      "\u001b[1m178/178\u001b[0m \u001b[32m━━━━━━━━━━━━━━━━━━━━\u001b[0m\u001b[37m\u001b[0m \u001b[1m1s\u001b[0m 698us/step - accuracy: 0.7500 - loss: 0.6553 - val_accuracy: 0.5806 - val_loss: 1.0895\n",
      "Epoch 11/50\n",
      "\u001b[1m178/178\u001b[0m \u001b[32m━━━━━━━━━━━━━━━━━━━━\u001b[0m\u001b[37m\u001b[0m \u001b[1m96s\u001b[0m 538ms/step - accuracy: 0.8091 - loss: 0.4931 - val_accuracy: 0.6289 - val_loss: 0.9987\n",
      "Epoch 12/50\n",
      "\u001b[1m178/178\u001b[0m \u001b[32m━━━━━━━━━━━━━━━━━━━━\u001b[0m\u001b[37m\u001b[0m \u001b[1m1s\u001b[0m 727us/step - accuracy: 0.8125 - loss: 0.5937 - val_accuracy: 0.7097 - val_loss: 0.9633\n",
      "Epoch 13/50\n",
      "\u001b[1m178/178\u001b[0m \u001b[32m━━━━━━━━━━━━━━━━━━━━\u001b[0m\u001b[37m\u001b[0m \u001b[1m107s\u001b[0m 599ms/step - accuracy: 0.8279 - loss: 0.4391 - val_accuracy: 0.7852 - val_loss: 0.5755\n",
      "Epoch 14/50\n",
      "\u001b[1m178/178\u001b[0m \u001b[32m━━━━━━━━━━━━━━━━━━━━\u001b[0m\u001b[37m\u001b[0m \u001b[1m1s\u001b[0m 904us/step - accuracy: 0.7188 - loss: 0.5883 - val_accuracy: 0.9677 - val_loss: 0.1926\n",
      "Epoch 15/50\n",
      "\u001b[1m178/178\u001b[0m \u001b[32m━━━━━━━━━━━━━━━━━━━━\u001b[0m\u001b[37m\u001b[0m \u001b[1m115s\u001b[0m 645ms/step - accuracy: 0.8446 - loss: 0.3995 - val_accuracy: 0.7969 - val_loss: 0.5279\n",
      "Epoch 16/50\n",
      "\u001b[1m178/178\u001b[0m \u001b[32m━━━━━━━━━━━━━━━━━━━━\u001b[0m\u001b[37m\u001b[0m \u001b[1m1s\u001b[0m 801us/step - accuracy: 0.9062 - loss: 0.2791 - val_accuracy: 0.9032 - val_loss: 0.3733\n",
      "Epoch 17/50\n",
      "\u001b[1m178/178\u001b[0m \u001b[32m━━━━━━━━━━━━━━━━━━━━\u001b[0m\u001b[37m\u001b[0m \u001b[1m103s\u001b[0m 577ms/step - accuracy: 0.8508 - loss: 0.3790 - val_accuracy: 0.8219 - val_loss: 0.4549\n",
      "Epoch 18/50\n",
      "\u001b[1m178/178\u001b[0m \u001b[32m━━━━━━━━━━━━━━━━━━━━\u001b[0m\u001b[37m\u001b[0m \u001b[1m1s\u001b[0m 804us/step - accuracy: 0.9375 - loss: 0.1922 - val_accuracy: 0.9355 - val_loss: 0.2615\n",
      "Epoch 19/50\n",
      "\u001b[1m178/178\u001b[0m \u001b[32m━━━━━━━━━━━━━━━━━━━━\u001b[0m\u001b[37m\u001b[0m \u001b[1m104s\u001b[0m 581ms/step - accuracy: 0.8584 - loss: 0.3575 - val_accuracy: 0.8453 - val_loss: 0.4017\n",
      "Epoch 20/50\n",
      "\u001b[1m178/178\u001b[0m \u001b[32m━━━━━━━━━━━━━━━━━━━━\u001b[0m\u001b[37m\u001b[0m \u001b[1m1s\u001b[0m 893us/step - accuracy: 0.8438 - loss: 0.4374 - val_accuracy: 0.8710 - val_loss: 0.2588\n",
      "Epoch 21/50\n",
      "\u001b[1m178/178\u001b[0m \u001b[32m━━━━━━━━━━━━━━━━━━━━\u001b[0m\u001b[37m\u001b[0m \u001b[1m104s\u001b[0m 584ms/step - accuracy: 0.8679 - loss: 0.3439 - val_accuracy: 0.8680 - val_loss: 0.3520\n",
      "Epoch 22/50\n",
      "\u001b[1m178/178\u001b[0m \u001b[32m━━━━━━━━━━━━━━━━━━━━\u001b[0m\u001b[37m\u001b[0m \u001b[1m1s\u001b[0m 760us/step - accuracy: 0.9062 - loss: 0.2856 - val_accuracy: 1.0000 - val_loss: 0.0455\n",
      "Epoch 23/50\n",
      "\u001b[1m178/178\u001b[0m \u001b[32m━━━━━━━━━━━━━━━━━━━━\u001b[0m\u001b[37m\u001b[0m \u001b[1m105s\u001b[0m 591ms/step - accuracy: 0.8902 - loss: 0.2835 - val_accuracy: 0.8398 - val_loss: 0.4199\n",
      "Epoch 24/50\n",
      "\u001b[1m178/178\u001b[0m \u001b[32m━━━━━━━━━━━━━━━━━━━━\u001b[0m\u001b[37m\u001b[0m \u001b[1m1s\u001b[0m 724us/step - accuracy: 0.8438 - loss: 0.3938 - val_accuracy: 0.9032 - val_loss: 0.3305\n",
      "Epoch 25/50\n",
      "\u001b[1m178/178\u001b[0m \u001b[32m━━━━━━━━━━━━━━━━━━━━\u001b[0m\u001b[37m\u001b[0m \u001b[1m110s\u001b[0m 617ms/step - accuracy: 0.8998 - loss: 0.2657 - val_accuracy: 0.8773 - val_loss: 0.3286\n",
      "Epoch 26/50\n",
      "\u001b[1m178/178\u001b[0m \u001b[32m━━━━━━━━━━━━━━━━━━━━\u001b[0m\u001b[37m\u001b[0m \u001b[1m1s\u001b[0m 833us/step - accuracy: 0.9688 - loss: 0.1202 - val_accuracy: 0.9355 - val_loss: 0.1872\n",
      "Epoch 27/50\n",
      "\u001b[1m178/178\u001b[0m \u001b[32m━━━━━━━━━━━━━━━━━━━━\u001b[0m\u001b[37m\u001b[0m \u001b[1m125s\u001b[0m 701ms/step - accuracy: 0.9040 - loss: 0.2463 - val_accuracy: 0.8117 - val_loss: 0.5123\n",
      "Epoch 28/50\n",
      "\u001b[1m178/178\u001b[0m \u001b[32m━━━━━━━━━━━━━━━━━━━━\u001b[0m\u001b[37m\u001b[0m \u001b[1m1s\u001b[0m 776us/step - accuracy: 0.9375 - loss: 0.2161 - val_accuracy: 0.9355 - val_loss: 0.2455\n",
      "Epoch 29/50\n",
      "\u001b[1m178/178\u001b[0m \u001b[32m━━━━━━━━━━━━━━━━━━━━\u001b[0m\u001b[37m\u001b[0m \u001b[1m123s\u001b[0m 691ms/step - accuracy: 0.9089 - loss: 0.2402 - val_accuracy: 0.9109 - val_loss: 0.2417\n",
      "Epoch 30/50\n",
      "\u001b[1m178/178\u001b[0m \u001b[32m━━━━━━━━━━━━━━━━━━━━\u001b[0m\u001b[37m\u001b[0m \u001b[1m1s\u001b[0m 2ms/step - accuracy: 0.9688 - loss: 0.0828 - val_accuracy: 0.9355 - val_loss: 0.2893\n",
      "Epoch 31/50\n",
      "\u001b[1m178/178\u001b[0m \u001b[32m━━━━━━━━━━━━━━━━━━━━\u001b[0m\u001b[37m\u001b[0m \u001b[1m121s\u001b[0m 681ms/step - accuracy: 0.9144 - loss: 0.2250 - val_accuracy: 0.8984 - val_loss: 0.3006\n",
      "Epoch 32/50\n",
      "\u001b[1m178/178\u001b[0m \u001b[32m━━━━━━━━━━━━━━━━━━━━\u001b[0m\u001b[37m\u001b[0m \u001b[1m1s\u001b[0m 1ms/step - accuracy: 0.9688 - loss: 0.0788 - val_accuracy: 0.9677 - val_loss: 0.0859\n",
      "Epoch 33/50\n",
      "\u001b[1m178/178\u001b[0m \u001b[32m━━━━━━━━━━━━━━━━━━━━\u001b[0m\u001b[37m\u001b[0m \u001b[1m141s\u001b[0m 794ms/step - accuracy: 0.9307 - loss: 0.1933 - val_accuracy: 0.8648 - val_loss: 0.3486\n",
      "Epoch 34/50\n",
      "\u001b[1m178/178\u001b[0m \u001b[32m━━━━━━━━━━━━━━━━━━━━\u001b[0m\u001b[37m\u001b[0m \u001b[1m1s\u001b[0m 941us/step - accuracy: 0.8438 - loss: 0.2928 - val_accuracy: 0.9355 - val_loss: 0.0889\n",
      "Epoch 35/50\n",
      "\u001b[1m178/178\u001b[0m \u001b[32m━━━━━━━━━━━━━━━━━━━━\u001b[0m\u001b[37m\u001b[0m \u001b[1m144s\u001b[0m 808ms/step - accuracy: 0.9247 - loss: 0.2172 - val_accuracy: 0.9047 - val_loss: 0.3040\n",
      "Epoch 36/50\n",
      "\u001b[1m178/178\u001b[0m \u001b[32m━━━━━━━━━━━━━━━━━━━━\u001b[0m\u001b[37m\u001b[0m \u001b[1m1s\u001b[0m 842us/step - accuracy: 0.9375 - loss: 0.1474 - val_accuracy: 0.9677 - val_loss: 0.1817\n",
      "Epoch 37/50\n",
      "\u001b[1m178/178\u001b[0m \u001b[32m━━━━━━━━━━━━━━━━━━━━\u001b[0m\u001b[37m\u001b[0m \u001b[1m128s\u001b[0m 717ms/step - accuracy: 0.9267 - loss: 0.1967 - val_accuracy: 0.9187 - val_loss: 0.2266\n",
      "Epoch 38/50\n",
      "\u001b[1m178/178\u001b[0m \u001b[32m━━━━━━━━━━━━━━━━━━━━\u001b[0m\u001b[37m\u001b[0m \u001b[1m1s\u001b[0m 723us/step - accuracy: 0.8750 - loss: 0.1987 - val_accuracy: 0.9677 - val_loss: 0.1165\n",
      "Epoch 39/50\n",
      "\u001b[1m178/178\u001b[0m \u001b[32m━━━━━━━━━━━━━━━━━━━━\u001b[0m\u001b[37m\u001b[0m \u001b[1m109s\u001b[0m 611ms/step - accuracy: 0.9354 - loss: 0.1738 - val_accuracy: 0.9344 - val_loss: 0.1762\n",
      "Epoch 40/50\n",
      "\u001b[1m178/178\u001b[0m \u001b[32m━━━━━━━━━━━━━━━━━━━━\u001b[0m\u001b[37m\u001b[0m \u001b[1m1s\u001b[0m 721us/step - accuracy: 0.9062 - loss: 0.2187 - val_accuracy: 0.9032 - val_loss: 0.3055\n",
      "Epoch 41/50\n",
      "\u001b[1m178/178\u001b[0m \u001b[32m━━━━━━━━━━━━━━━━━━━━\u001b[0m\u001b[37m\u001b[0m \u001b[1m125s\u001b[0m 701ms/step - accuracy: 0.9340 - loss: 0.1777 - val_accuracy: 0.9234 - val_loss: 0.2149\n",
      "Epoch 42/50\n",
      "\u001b[1m178/178\u001b[0m \u001b[32m━━━━━━━━━━━━━━━━━━━━\u001b[0m\u001b[37m\u001b[0m \u001b[1m1s\u001b[0m 970us/step - accuracy: 0.9375 - loss: 0.1799 - val_accuracy: 0.9677 - val_loss: 0.0372\n",
      "Epoch 43/50\n",
      "\u001b[1m178/178\u001b[0m \u001b[32m━━━━━━━━━━━━━━━━━━━━\u001b[0m\u001b[37m\u001b[0m \u001b[1m112s\u001b[0m 628ms/step - accuracy: 0.9361 - loss: 0.1884 - val_accuracy: 0.8492 - val_loss: 0.5142\n",
      "Epoch 44/50\n",
      "\u001b[1m178/178\u001b[0m \u001b[32m━━━━━━━━━━━━━━━━━━━━\u001b[0m\u001b[37m\u001b[0m \u001b[1m1s\u001b[0m 678us/step - accuracy: 0.9375 - loss: 0.1710 - val_accuracy: 0.9677 - val_loss: 0.0734\n",
      "Epoch 45/50\n",
      "\u001b[1m178/178\u001b[0m \u001b[32m━━━━━━━━━━━━━━━━━━━━\u001b[0m\u001b[37m\u001b[0m \u001b[1m108s\u001b[0m 608ms/step - accuracy: 0.9444 - loss: 0.1460 - val_accuracy: 0.9273 - val_loss: 0.1790\n",
      "Epoch 46/50\n",
      "\u001b[1m178/178\u001b[0m \u001b[32m━━━━━━━━━━━━━━━━━━━━\u001b[0m\u001b[37m\u001b[0m \u001b[1m1s\u001b[0m 733us/step - accuracy: 0.9375 - loss: 0.2182 - val_accuracy: 0.9677 - val_loss: 0.0820\n",
      "Epoch 47/50\n",
      "\u001b[1m178/178\u001b[0m \u001b[32m━━━━━━━━━━━━━━━━━━━━\u001b[0m\u001b[37m\u001b[0m \u001b[1m103s\u001b[0m 577ms/step - accuracy: 0.9397 - loss: 0.1628 - val_accuracy: 0.9227 - val_loss: 0.1896\n",
      "Epoch 48/50\n",
      "\u001b[1m178/178\u001b[0m \u001b[32m━━━━━━━━━━━━━━━━━━━━\u001b[0m\u001b[37m\u001b[0m \u001b[1m1s\u001b[0m 756us/step - accuracy: 1.0000 - loss: 0.0345 - val_accuracy: 0.9677 - val_loss: 0.0756\n",
      "Epoch 49/50\n",
      "\u001b[1m178/178\u001b[0m \u001b[32m━━━━━━━━━━━━━━━━━━━━\u001b[0m\u001b[37m\u001b[0m \u001b[1m103s\u001b[0m 579ms/step - accuracy: 0.9494 - loss: 0.1303 - val_accuracy: 0.9281 - val_loss: 0.2053\n",
      "Epoch 50/50\n",
      "\u001b[1m178/178\u001b[0m \u001b[32m━━━━━━━━━━━━━━━━━━━━\u001b[0m\u001b[37m\u001b[0m \u001b[1m1s\u001b[0m 852us/step - accuracy: 0.9062 - loss: 0.1690 - val_accuracy: 0.9677 - val_loss: 0.1037\n",
      "\u001b[1m40/40\u001b[0m \u001b[32m━━━━━━━━━━━━━━━━━━━━\u001b[0m\u001b[37m\u001b[0m \u001b[1m6s\u001b[0m 158ms/step - accuracy: 0.9067 - loss: 0.2633\n",
      "Test Loss: 0.1970\n",
      "Test Accuracy: 0.9336\n",
      "\u001b[1m41/41\u001b[0m \u001b[32m━━━━━━━━━━━━━━━━━━━━\u001b[0m\u001b[37m\u001b[0m \u001b[1m7s\u001b[0m 162ms/step\n",
      "Class: glioma\n",
      "Precision: 0.9677\n",
      "Recall: 0.9000\n",
      "F1-Score: 0.9326\n",
      "\n",
      "Class: meningioma\n",
      "Precision: 0.8986\n",
      "Recall: 0.8399\n",
      "F1-Score: 0.8682\n",
      "\n",
      "Class: notumor\n",
      "Precision: 0.9176\n",
      "Recall: 0.9901\n",
      "F1-Score: 0.9525\n",
      "\n",
      "Class: pituitary\n",
      "Precision: 0.9612\n",
      "Recall: 0.9900\n",
      "F1-Score: 0.9754\n",
      "\n"
     ]
    }
   ],
   "source": [
    "\n",
    "# STEP 5: TRAIN THE MODEL\n",
    "history = model.fit(\n",
    "    train_generator,\n",
    "    steps_per_epoch=train_generator.samples // batch_size,\n",
    "    epochs=epochs,\n",
    "    validation_data=test_generator,\n",
    "    validation_steps=test_generator.samples // batch_size\n",
    ")\n"
   ]
  },
  {
   "cell_type": "code",
   "execution_count": 22,
   "id": "cf451c06",
   "metadata": {},
   "outputs": [
    {
     "name": "stdout",
     "output_type": "stream",
     "text": [
      "\u001b[1m40/40\u001b[0m \u001b[32m━━━━━━━━━━━━━━━━━━━━\u001b[0m\u001b[37m\u001b[0m \u001b[1m6s\u001b[0m 145ms/step - accuracy: 0.9067 - loss: 0.2633\n",
      "Test Loss: 0.1970\n",
      "Test Accuracy: 0.9336\n"
     ]
    }
   ],
   "source": [
    "\n",
    "# STEP 6: EVALUATE THE MODEL\n",
    "loss, accuracy = model.evaluate(test_generator, steps=test_generator.samples // batch_size)\n",
    "print(f\"Test Loss: {loss:.4f}\")\n",
    "print(f\"Test Accuracy: {accuracy:.4f}\")\n"
   ]
  },
  {
   "cell_type": "code",
   "execution_count": 23,
   "id": "bd8c7d0d",
   "metadata": {},
   "outputs": [
    {
     "name": "stdout",
     "output_type": "stream",
     "text": [
      "\u001b[1m41/41\u001b[0m \u001b[32m━━━━━━━━━━━━━━━━━━━━\u001b[0m\u001b[37m\u001b[0m \u001b[1m6s\u001b[0m 148ms/step\n"
     ]
    }
   ],
   "source": [
    "\n",
    "# STEP 7: CONFUSION MATRIX\n",
    "predictions = model.predict(test_generator)\n",
    "predicted_categories = np.argmax(predictions, axis=1)\n",
    "true_categories = test_generator.classes\n",
    "\n",
    "confusion_matrix = tf.math.confusion_matrix(true_categories, predicted_categories)\n"
   ]
  },
  {
   "cell_type": "code",
   "execution_count": 24,
   "id": "f588db83",
   "metadata": {},
   "outputs": [
    {
     "name": "stdout",
     "output_type": "stream",
     "text": [
      "Class: glioma\n",
      "Precision: 0.9677\n",
      "Recall: 0.9000\n",
      "F1-Score: 0.9326\n",
      "\n",
      "Class: meningioma\n",
      "Precision: 0.8986\n",
      "Recall: 0.8399\n",
      "F1-Score: 0.8682\n",
      "\n",
      "Class: notumor\n",
      "Precision: 0.9176\n",
      "Recall: 0.9901\n",
      "F1-Score: 0.9525\n",
      "\n",
      "Class: pituitary\n",
      "Precision: 0.9612\n",
      "Recall: 0.9900\n",
      "F1-Score: 0.9754\n",
      "\n"
     ]
    }
   ],
   "source": [
    "\n",
    "# STEP 8: CALCULATE PRECISION, RECALL, AND F1-SCORE\n",
    "def calculate_metrics(cm):\n",
    "    precision = np.diag(cm) / np.sum(cm, axis=0)\n",
    "    recall = np.diag(cm) / np.sum(cm, axis=1)\n",
    "    f1_score = 2 * (precision * recall) / (precision + recall)\n",
    "    return precision, recall, f1_score\n",
    "\n",
    "precision, recall, f1_score = calculate_metrics(confusion_matrix.numpy())\n",
    "for i, category in enumerate(categories):\n",
    "    print(f\"Class: {category}\")\n",
    "    print(f\"Precision: {precision[i]:.4f}\")\n",
    "    print(f\"Recall: {recall[i]:.4f}\")\n",
    "    print(f\"F1-Score: {f1_score[i]:.4f}\\n\")\n"
   ]
  },
  {
   "cell_type": "code",
   "execution_count": 25,
   "id": "2de5f65d",
   "metadata": {},
   "outputs": [],
   "source": [
    "\n",
    "# STEP 9: SAVE THE MODEL\n",
    "model.save(\"Brain_tumor_detection_model.keras\")\n"
   ]
  }
 ],
 "metadata": {
  "kernelspec": {
   "display_name": ".env",
   "language": "python",
   "name": "python3"
  },
  "language_info": {
   "codemirror_mode": {
    "name": "ipython",
    "version": 3
   },
   "file_extension": ".py",
   "mimetype": "text/x-python",
   "name": "python",
   "nbconvert_exporter": "python",
   "pygments_lexer": "ipython3",
   "version": "3.12.5"
  },
  "papermill": {
   "default_parameters": {},
   "duration": 3135.844051,
   "end_time": "2023-08-28T17:17:13.223491",
   "environment_variables": {},
   "exception": null,
   "input_path": "__notebook__.ipynb",
   "output_path": "__notebook__.ipynb",
   "parameters": {},
   "start_time": "2023-08-28T16:24:57.37944",
   "version": "2.4.0"
  }
 },
 "nbformat": 4,
 "nbformat_minor": 5
}
